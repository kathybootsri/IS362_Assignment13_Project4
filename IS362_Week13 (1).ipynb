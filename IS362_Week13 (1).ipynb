{
 "cells": [
  {
   "cell_type": "markdown",
   "metadata": {},
   "source": [
    "# Week 13 Assignment: Analyzing Top Five Correlated Features and Precision to Determine of Mushroom is Poisonous or Edible"
   ]
  },
  {
   "cell_type": "code",
   "execution_count": 1,
   "metadata": {},
   "outputs": [],
   "source": [
    "import pandas as pd\n",
    "import numpy as np\n",
    "import seaborn as sns\n",
    "import matplotlib.pyplot as plt\n",
    "from sklearn.ensemble import RandomForestClassifier\n",
    "from sklearn.svm import SVC\n",
    "from sklearn import svm\n",
    "from sklearn.neural_network import MLPClassifier\n",
    "from sklearn.metrics import confusion_matrix, classification_report, precision_score\n",
    "from sklearn.preprocessing import StandardScaler, LabelEncoder\n",
    "from sklearn.model_selection import train_test_split\n",
    "from sklearn.feature_extraction.text import CountVectorizer\n",
    "from sklearn.model_selection import GridSearchCV\n",
    "import requests"
   ]
  },
  {
   "cell_type": "markdown",
   "metadata": {},
   "source": [
    "## Import Data File"
   ]
  },
  {
   "cell_type": "code",
   "execution_count": 73,
   "metadata": {},
   "outputs": [
    {
     "name": "stdout",
     "output_type": "stream",
     "text": [
      "  edible_poisonous cap-shape cap-surface cap-color bruises odor  \\\n",
      "0                p         x           s         n       t    p   \n",
      "1                e         x           s         y       t    a   \n",
      "2                e         b           s         w       t    l   \n",
      "3                p         x           y         w       t    p   \n",
      "4                e         x           s         g       f    n   \n",
      "\n",
      "  gill-attachment gill-spacing gill-size gill-color  ...  \\\n",
      "0               f            c         n          k  ...   \n",
      "1               f            c         b          k  ...   \n",
      "2               f            c         b          n  ...   \n",
      "3               f            c         n          n  ...   \n",
      "4               f            w         b          k  ...   \n",
      "\n",
      "  stalk-color-above-ring stalk-color-below-ring veil-type veil-color  \\\n",
      "0                      w                      w         p          w   \n",
      "1                      w                      w         p          w   \n",
      "2                      w                      w         p          w   \n",
      "3                      w                      w         p          w   \n",
      "4                      w                      w         p          w   \n",
      "\n",
      "  ring-number ring-type spore-print-color population habitat  \\\n",
      "0           o         p                 k          s       u   \n",
      "1           o         p                 n          n       g   \n",
      "2           o         p                 n          n       m   \n",
      "3           o         p                 k          s       u   \n",
      "4           o         e                 n          a       g   \n",
      "\n",
      "  edible_poisonous_orig  \n",
      "0                     p  \n",
      "1                     e  \n",
      "2                     e  \n",
      "3                     p  \n",
      "4                     e  \n",
      "\n",
      "[5 rows x 24 columns]\n"
     ]
    }
   ],
   "source": [
    "url = 'https://archive.ics.uci.edu/ml/machine-learning-databases/mushroom/agaricus-lepiota.data'\n",
    "\n",
    "header_list = ['edible_poisonous', 'cap-shape', 'cap-surface', 'cap-color', 'bruises', 'odor', 'gill-attachment', 'gill-spacing', 'gill-size', 'gill-color', 'stalk-shape', 'stalk-root', 'stalk-surface-above-ring', 'stalk-surface-below-ring', 'stalk-color-above-ring', 'stalk-color-below-ring', 'veil-type', 'veil-color', 'ring-number', 'ring-type', 'spore-print-color', 'population', 'habitat']\n",
    "\n",
    "mushroom_data = pd.read_csv(url, names=header_list)\n",
    "\n",
    "mushroom_data['edible_poisonous_orig'] = mushroom_data['edible_poisonous']\n",
    "\n",
    "mushroom_data_orig = mushroom_data.copy()\n",
    "\n",
    "print(mushroom_data.head())"
   ]
  },
  {
   "cell_type": "markdown",
   "metadata": {},
   "source": [
    "## Create function to transform data (maintaining edible_poisonous category)"
   ]
  },
  {
   "cell_type": "code",
   "execution_count": 110,
   "metadata": {},
   "outputs": [
    {
     "name": "stdout",
     "output_type": "stream",
     "text": [
      "   edible_poisonous  cap-shape  cap-surface  cap-color  bruises  odor  \\\n",
      "0                 1          5            2          4        1     6   \n",
      "1                 0          5            2          9        1     0   \n",
      "2                 0          0            2          8        1     3   \n",
      "3                 1          5            3          8        1     6   \n",
      "4                 0          5            2          3        0     5   \n",
      "\n",
      "   gill-attachment  gill-spacing  gill-size  gill-color  ...  \\\n",
      "0                1             0          1           4  ...   \n",
      "1                1             0          0           4  ...   \n",
      "2                1             0          0           5  ...   \n",
      "3                1             0          1           5  ...   \n",
      "4                1             1          0           4  ...   \n",
      "\n",
      "   stalk-color-above-ring  stalk-color-below-ring  veil-type  veil-color  \\\n",
      "0                       7                       7          0           2   \n",
      "1                       7                       7          0           2   \n",
      "2                       7                       7          0           2   \n",
      "3                       7                       7          0           2   \n",
      "4                       7                       7          0           2   \n",
      "\n",
      "   ring-number  ring-type  spore-print-color  population  habitat  \\\n",
      "0            1          4                  2           3        5   \n",
      "1            1          4                  3           2        1   \n",
      "2            1          4                  3           2        3   \n",
      "3            1          4                  2           3        5   \n",
      "4            1          0                  3           0        1   \n",
      "\n",
      "   edible_poisonous_orig  \n",
      "0                      p  \n",
      "1                      e  \n",
      "2                      e  \n",
      "3                      p  \n",
      "4                      e  \n",
      "\n",
      "[5 rows x 24 columns]\n"
     ]
    }
   ],
   "source": [
    "encode = LabelEncoder()\n",
    "\n",
    "def transform_data(dataframe):\n",
    "    for col in dataframe.columns[0:23]: \n",
    "        #CLEAN UP DATA AND VECTORIZE (PRESERVE EDIBLE_POISONOUS CATEGORY)\n",
    "        \n",
    "        dataframe.dropna(inplace=True)\n",
    "        \n",
    "        dataframe['%s' % col] = encode.fit_transform(dataframe['%s' % col])\n",
    "\n",
    "    return dataframe\n",
    "\n",
    "mushroom_data = transform_data(dataframe=mushroom_data)\n",
    "\n",
    "print(mushroom_data.head())"
   ]
  },
  {
   "cell_type": "markdown",
   "metadata": {},
   "source": [
    "## Determine Highest Correlation Features to edible_poisonous Values"
   ]
  },
  {
   "cell_type": "code",
   "execution_count": 4,
   "metadata": {},
   "outputs": [
    {
     "name": "stdout",
     "output_type": "stream",
     "text": [
      "edible_poisonous            1.000000\n",
      "gill-size                   0.910840\n",
      "odor                        0.731603\n",
      "stalk-root                  0.699206\n",
      "cap-shape                   0.544709\n",
      "population                  0.450592\n",
      "habitat                     0.379518\n",
      "cap-surface                 0.342286\n",
      "bruises                     0.335083\n",
      "ring-type                   0.282843\n",
      "gill-color                  0.160077\n",
      "stalk-surface-below-ring    0.155700\n",
      "spore-print-color          -0.162650\n",
      "gill-spacing               -0.282843\n",
      "stalk-shape                -0.282843\n",
      "cap-color                  -0.337936\n",
      "gill-attachment                  NaN\n",
      "stalk-surface-above-ring         NaN\n",
      "stalk-color-above-ring           NaN\n",
      "stalk-color-below-ring           NaN\n",
      "veil-type                        NaN\n",
      "veil-color                       NaN\n",
      "ring-number                      NaN\n",
      "Name: edible_poisonous, dtype: float64\n"
     ]
    },
    {
     "data": {
      "text/plain": [
       "<Figure size 864x720 with 0 Axes>"
      ]
     },
     "metadata": {},
     "output_type": "display_data"
    }
   ],
   "source": [
    "plt.figure(figsize=(12,10))\n",
    "cor = mushroom_data[0:23].corr()\n",
    "cor.sort_values(by=['edible_poisonous'], inplace = True, ascending=False)\n",
    "edib_corr = cor['edible_poisonous']\n",
    "print(edib_corr)"
   ]
  },
  {
   "cell_type": "code",
   "execution_count": 112,
   "metadata": {},
   "outputs": [
    {
     "name": "stdout",
     "output_type": "stream",
     "text": [
      "gill-size\n",
      "odor\n",
      "stalk-root\n",
      "cap-shape\n",
      "population\n"
     ]
    }
   ],
   "source": [
    "for row in edib_corr.index[1:6]:\n",
    "    print(row);\n"
   ]
  },
  {
   "cell_type": "markdown",
   "metadata": {},
   "source": [
    "## Plot Top Five Correlating Features"
   ]
  },
  {
   "cell_type": "code",
   "execution_count": 6,
   "metadata": {},
   "outputs": [
    {
     "data": {
      "image/png": "[encoded data removed]",
      "text/plain": [
       "<Figure size 432x288 with 1 Axes>"
      ]
     },
     "metadata": {
      "needs_background": "light"
     },
     "output_type": "display_data"
    }
   ],
   "source": [
    "sns.countplot(x= 'gill-size',  hue = 'edible_poisonous_orig',data=mushroom_data).set_title('Gill Size');"
   ]
  },
  {
   "cell_type": "markdown",
   "metadata": {},
   "source": [
    "### Re-Convert the Transformed Data to See Observations"
   ]
  },
  {
   "cell_type": "code",
   "execution_count": 101,
   "metadata": {},
   "outputs": [
    {
     "name": "stdout",
     "output_type": "stream",
     "text": [
      "{'n': 0, 'b': 1}\n"
     ]
    }
   ],
   "source": [
    "gillsize_orig = list(mushroom_data_orig['gill-size'].unique())\n",
    "\n",
    "encoded_data, mapping_index = pd.Series(gillsize_orig).factorize()\n",
    "\n",
    "gillsize_vocab = dict(zip(list(mapping_index), encoded_data)) \n",
    "        \n",
    "print(gillsize_vocab)"
   ]
  },
  {
   "cell_type": "markdown",
   "metadata": {},
   "source": [
    "### Observation: Edible mushrooms tend to have a gill size of n while poisonous tend to have a gill size of b."
   ]
  },
  {
   "cell_type": "code",
   "execution_count": 7,
   "metadata": {},
   "outputs": [
    {
     "data": {
      "image/png": "[encoded data removed]",
      "text/plain": [
       "<Figure size 432x288 with 1 Axes>"
      ]
     },
     "metadata": {
      "needs_background": "light"
     },
     "output_type": "display_data"
    }
   ],
   "source": [
    "sns.countplot(x= 'odor',  hue = 'edible_poisonous_orig',data=mushroom_data).set_title('Odor');"
   ]
  },
  {
   "cell_type": "code",
   "execution_count": 102,
   "metadata": {},
   "outputs": [
    {
     "name": "stdout",
     "output_type": "stream",
     "text": [
      "{'p': 0, 'a': 1, 'l': 2, 'n': 3, 'f': 4, 'c': 5, 'y': 6, 's': 7, 'm': 8}\n"
     ]
    }
   ],
   "source": [
    "odor_orig = list(mushroom_data_orig['odor'].unique())\n",
    "\n",
    "encoded_data, mapping_index = pd.Series(odor_orig).factorize()\n",
    "\n",
    "odor_vocab = dict(zip(list(mapping_index), encoded_data)) \n",
    "        \n",
    "print(odor_vocab)"
   ]
  },
  {
   "cell_type": "markdown",
   "metadata": {},
   "source": [
    "### Observations: Edible mushrooms tend to have an odor of c while poisonous mushrooms tend highly likely have an odor of l, y, s or m. "
   ]
  },
  {
   "cell_type": "code",
   "execution_count": 8,
   "metadata": {},
   "outputs": [
    {
     "data": {
      "image/png": "[encoded data removed]",
      "text/plain": [
       "<Figure size 432x288 with 1 Axes>"
      ]
     },
     "metadata": {
      "needs_background": "light"
     },
     "output_type": "display_data"
    }
   ],
   "source": [
    "sns.countplot(x= 'stalk-root',  hue = 'edible_poisonous_orig',data=mushroom_data).set_title('Stalk Root');"
   ]
  },
  {
   "cell_type": "code",
   "execution_count": 104,
   "metadata": {},
   "outputs": [
    {
     "name": "stdout",
     "output_type": "stream",
     "text": [
      "{'e': 0, 'c': 1, 'b': 2, 'r': 3, '?': 4}\n"
     ]
    }
   ],
   "source": [
    "stalkroot_orig = list(mushroom_data_orig['stalk-root'].unique())\n",
    "\n",
    "encoded_data, mapping_index = pd.Series(stalkroot_orig).factorize()\n",
    "\n",
    "stalkroot_vocab = dict(zip(list(mapping_index), encoded_data)) \n",
    "        \n",
    "print(stalkroot_vocab)"
   ]
  },
  {
   "cell_type": "markdown",
   "metadata": {},
   "source": [
    "### Observations: Edible mushrooms tend to have an r and b stalkroot. "
   ]
  },
  {
   "cell_type": "code",
   "execution_count": 9,
   "metadata": {},
   "outputs": [
    {
     "data": {
      "image/png": "[encoded data removed]",
      "text/plain": [
       "<Figure size 432x288 with 1 Axes>"
      ]
     },
     "metadata": {
      "needs_background": "light"
     },
     "output_type": "display_data"
    }
   ],
   "source": [
    "sns.countplot(x= 'cap-shape',  hue = 'edible_poisonous_orig',data=mushroom_data).set_title('Cap Shape');"
   ]
  },
  {
   "cell_type": "code",
   "execution_count": 105,
   "metadata": {},
   "outputs": [
    {
     "name": "stdout",
     "output_type": "stream",
     "text": [
      "{'x': 0, 'b': 1, 's': 2, 'f': 3, 'k': 4, 'c': 5}\n"
     ]
    }
   ],
   "source": [
    "capshape_orig = list(mushroom_data_orig['cap-shape'].unique())\n",
    "\n",
    "encoded_data, mapping_index = pd.Series(capshape_orig).factorize()\n",
    "\n",
    "capshape_vocab = dict(zip(list(mapping_index), encoded_data)) \n",
    "        \n",
    "print(capshape_vocab)"
   ]
  },
  {
   "cell_type": "markdown",
   "metadata": {},
   "source": [
    "### Observations: Mushrooms with a cap shape of k and x tend to be edible. "
   ]
  },
  {
   "cell_type": "code",
   "execution_count": 10,
   "metadata": {},
   "outputs": [
    {
     "data": {
      "image/png": "[encoded data removed]",
      "text/plain": [
       "<Figure size 432x288 with 1 Axes>"
      ]
     },
     "metadata": {
      "needs_background": "light"
     },
     "output_type": "display_data"
    }
   ],
   "source": [
    "sns.countplot(x= 'population',  hue = 'edible_poisonous_orig',data=mushroom_data).set_title('Population');"
   ]
  },
  {
   "cell_type": "code",
   "execution_count": 106,
   "metadata": {},
   "outputs": [
    {
     "name": "stdout",
     "output_type": "stream",
     "text": [
      "{'s': 0, 'n': 1, 'a': 2, 'v': 3, 'y': 4, 'c': 5}\n"
     ]
    }
   ],
   "source": [
    "pop_orig = list(mushroom_data_orig['population'].unique())\n",
    "\n",
    "encoded_data, mapping_index = pd.Series(pop_orig).factorize()\n",
    "\n",
    "pop_vocab = dict(zip(list(mapping_index), encoded_data)) \n",
    "        \n",
    "print(pop_vocab)"
   ]
  },
  {
   "cell_type": "markdown",
   "metadata": {},
   "source": [
    "### Observation: Poisonous mushrooms have a population of y. "
   ]
  },
  {
   "cell_type": "markdown",
   "metadata": {},
   "source": [
    "# Project 4 Portion:"
   ]
  },
  {
   "cell_type": "markdown",
   "metadata": {},
   "source": [
    "## Determine Precision of Random Forest Classifier Using Above Five Features"
   ]
  },
  {
   "cell_type": "code",
   "execution_count": 119,
   "metadata": {},
   "outputs": [
    {
     "name": "stdout",
     "output_type": "stream",
     "text": [
      "Random Forest Classifier Precision: 99.31%\n",
      "Confusion Matrix:\n",
      "[[1280    0]\n",
      " [  17 1141]]\n"
     ]
    }
   ],
   "source": [
    "mushroom_highcorr_df = mushroom_data[['edible_poisonous', 'gill-size', 'odor', 'stalk-root', 'cap-shape', 'population']]\n",
    "\n",
    "sc = StandardScaler()\n",
    "\n",
    "X = mushroom_highcorr_df.drop('edible_poisonous', axis = 1)\n",
    "y = mushroom_highcorr_df['edible_poisonous'] \n",
    "\n",
    "X_train, X_test, y_train, y_test = train_test_split(X, y, test_size = .3)\n",
    "\n",
    "X_train = sc.fit_transform(X_train)\n",
    "X_test = sc.transform(X_test)\n",
    "\n",
    "rfc = RandomForestClassifier()\n",
    "rfc.fit(X_train, y_train)\n",
    "pred_rfc = rfc.predict(X_test)\n",
    "\n",
    "ps = precision_score(y_test, pred_rfc, average='weighted', labels=np.unique(pred_rfc))\n",
    "print('Random Forest Classifier Precision: {:.2%}'.format(ps))\n",
    "print('Confusion Matrix:')\n",
    "print(confusion_matrix(y_test, pred_rfc))"
   ]
  },
  {
   "cell_type": "markdown",
   "metadata": {},
   "source": [
    "## Test RFC On the First Set of Feature Values to Check Prediction Against First Row"
   ]
  },
  {
   "cell_type": "code",
   "execution_count": 134,
   "metadata": {},
   "outputs": [
    {
     "name": "stdout",
     "output_type": "stream",
     "text": [
      "Prediction States: [1]\n",
      "First Row States: 1\n"
     ]
    }
   ],
   "source": [
    "xtest = [[1, 6, 3, 5, 3]]\n",
    "\n",
    "xtest = sc.transform(xtest)\n",
    "ypred = rfc.predict(xtest)\n",
    "print(\"Prediction States: %s\" % ypred)\n",
    "\n",
    "print(\"First Row States: %s\" % mushroom_data.loc[0][0])"
   ]
  },
  {
   "cell_type": "markdown",
   "metadata": {},
   "source": [
    "### In conclusion, using the Random Forest Classifier, the top five correlated features can determine an approximate recision of 99% prediction as to whether a mushroom is poisonous or edible."
   ]
  }
 ],
 "metadata": {
  "kernelspec": {
   "display_name": "Python 3",
   "language": "python",
   "name": "python3"
  },
  "language_info": {
   "codemirror_mode": {
    "name": "ipython",
    "version": 3
   },
   "file_extension": ".py",
   "mimetype": "text/x-python",
   "name": "python",
   "nbconvert_exporter": "python",
   "pygments_lexer": "ipython3",
   "version": "3.7.4"
  }
 },
 "nbformat": 4,
 "nbformat_minor": 4
}
